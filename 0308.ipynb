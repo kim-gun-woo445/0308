{
 "cells": [
  {
   "cell_type": "code",
   "execution_count": null,
   "id": "73d5ba5f",
   "metadata": {},
   "outputs": [],
   "source": [
    "while True:\n",
    "    input_data = input(\"계산식 입력 (예: 10 + 20), 종료:'q'\").split()\n",
    "    if input_data[0] == 'q': # 'q'가 입력되면 종료\n",
    "        break\n",
    "    if len(input_data) < 3:  # 입력된 데이터가 3개 미만이면 계속 입력\n",
    "        continue\n",
    "    # 처음과 마지막 자료가 숫자가 아니면 다시 입력\n",
    "    if not input_data[0].isdigit() or not input_data[2].isdigit():\n",
    "        continue\n",
    "    # 부호가 '+-/'가 아니면 다시 입력\n",
    "    if not input_data[1] in '+-/':\n",
    "        continue\n",
    "\n",
    "    num1 = int(input_data[0])\n",
    "    buho = input_data[1]\n",
    "    num2 = int(input_data[2])\n",
    "    # 계산식 출력\n",
    "    if buho == '+':\n",
    "        result = num1 + num2\n",
    "    elif buho == '-':\n",
    "        result = num1 - num2\n",
    "    elif buho == '*':\n",
    "        result = num1 * num2\n",
    "    else:\n",
    "        result = num1 / num2\n",
    "    print(\"{} {} {} = {}\".format(num1, buho, num2, result))\n",
    "\n",
    "print(\"프로그램 종료\")"
   ]
  },
  {
   "cell_type": "code",
   "execution_count": null,
   "id": "be9cbfec",
   "metadata": {},
   "outputs": [],
   "source": [
    "while True:\n",
    "    student_name=input('이름을 입력하세요').\n",
    "    student_name=\n",
    "    =\"10 20 30 40 50\".split(\" \")\n",
    "print(a)"
   ]
  },
  {
   "cell_type": "code",
   "execution_count": 99,
   "id": "1ae70e1b",
   "metadata": {},
   "outputs": [
    {
     "ename": "SyntaxError",
     "evalue": "invalid syntax (Temp/ipykernel_7252/3323473724.py, line 25)",
     "output_type": "error",
     "traceback": [
      "\u001b[1;36m  File \u001b[1;32m\"C:\\Users\\ygl\\AppData\\Local\\Temp/ipykernel_7252/3323473724.py\"\u001b[1;36m, line \u001b[1;32m25\u001b[0m\n\u001b[1;33m    format(cnt,total, total/cnt))\u001b[0m\n\u001b[1;37m    ^\u001b[0m\n\u001b[1;31mSyntaxError\u001b[0m\u001b[1;31m:\u001b[0m invalid syntax\n"
     ]
    }
   ],
   "source": [
    "student = {}\n",
    "# 자료 입력 : 이름에 'q'가 입력되면 입력 종료\n",
    "while True:\n",
    "    input_data = input(\"이름 성적 입력 (종료는 'q'): \").split()\n",
    "    if input_data[0] == 'q':\n",
    "        break\n",
    "    elif len(input_data) < 2:\n",
    "        continue\n",
    "    elif not input_data[1].isdigit():\n",
    "        continue\n",
    "#     name = input_data[0]\n",
    "#     score = int(input_data[1])\n",
    "#     student[name] = score\n",
    "    student[input_data[0]] = int(input_data[1])\n",
    "\n",
    "# 인원수, 성적 총합계, 평균을 구하세요\n",
    "cnt = 0\n",
    "total = 0\n",
    "for key in student:\n",
    "    cnt += 1\n",
    "    total += student[key]\n",
    "\n",
    "# 계산 결과 출력\n",
    "print(\"학생 수 : {}명, 총합계 : {},  평균 : {:3.2f}\"\n",
    "      format(cnt,total, total/cnt))"
   ]
  },
  {
   "cell_type": "code",
   "execution_count": 19,
   "id": "46a94e7d",
   "metadata": {},
   "outputs": [
    {
     "name": "stdout",
     "output_type": "stream",
     "text": [
      "1 100\n",
      "2 200\n",
      "3 300\n",
      "4 400\n",
      "5 500\n"
     ]
    }
   ],
   "source": [
    "list_a = [1, 2, 3, 4, 5]\n",
    "list_b = [100, 200, 300, 400, 500]\n",
    "for a_value, b_value in zip(list_a, list_b):\n",
    "    print(a_value, b_value)\n",
    "\n"
   ]
  },
  {
   "cell_type": "code",
   "execution_count": 34,
   "id": "f891d732",
   "metadata": {},
   "outputs": [
    {
     "name": "stdout",
     "output_type": "stream",
     "text": [
      "값: None\n",
      "whswox\n"
     ]
    }
   ],
   "source": [
    "dictionary = {\n",
    "    \"name\": \"어벤저스\", \"type\": \"히어로\"\n",
    "}\n",
    "value = dictionary.get(\"whswox\")\n",
    "print(\"값:\",value)\n",
    "if value ==None:\n",
    "    print(\"whswox\")"
   ]
  },
  {
   "cell_type": "code",
   "execution_count": 71,
   "id": "aff66e4a",
   "metadata": {},
   "outputs": [
    {
     "name": "stdout",
     "output_type": "stream",
     "text": [
      "0 to 100: 5050\n"
     ]
    }
   ],
   "source": [
    "def sum_all(start, end):\n",
    "    output=0\n",
    "    for i in range(start, end+1):\n",
    "        output +=i\n",
    "    return output\n",
    "print(\"0 to 100:\", sum_all(0,100))"
   ]
  },
  {
   "cell_type": "code",
   "execution_count": 84,
   "id": "26fc972d",
   "metadata": {},
   "outputs": [],
   "source": [
    "def input_data():\n",
    "    student = {}\n",
    "    while True:\n",
    "        input_data = input(\"이름과 성적 입력 (종료는 'q'): \").split()\n",
    "        if input_data[0] == 'q':\n",
    "            break\n",
    "        elif len(input_data) < 2:\n",
    "            continue\n",
    "        elif not input_data[1].isdigit():\n",
    "            continue\n",
    "        student[input_data[0]] = int(input_data[1])\n",
    "    return student\n",
    "\n",
    "def search_data(student):\n",
    "    search_name = input(\"검색할 이름 입력 : \")\n",
    "    for key in student:\n",
    "        if key == search_name:\n",
    "            return key\n",
    "    return"
   ]
  },
  {
   "cell_type": "code",
   "execution_count": 87,
   "id": "9fb6a394",
   "metadata": {},
   "outputs": [
    {
     "name": "stdout",
     "output_type": "stream",
     "text": [
      "이름과 성적 입력 (종료는 'q'): 김건우 80\n",
      "이름과 성적 입력 (종료는 'q'): q\n",
      "검색할 이름 입력 : 김건우\n",
      "김건우 : 80\n"
     ]
    }
   ],
   "source": [
    "student=input_data()\n",
    "key=search_data(student)\n",
    "if key:\n",
    "    print(\"{} : {}\".format(key,student[key]))\n",
    "else:\n",
    "    print(\"존재 x\")\n",
    "\n",
    "\n",
    "\n"
   ]
  },
  {
   "cell_type": "code",
   "execution_count": 100,
   "id": "bcb703a0",
   "metadata": {},
   "outputs": [],
   "source": [
    "def input_data_1():\n",
    "    student = {}\n",
    "    while True:\n",
    "        input_data = input(\"이름 성적 입력 (종료는 'q'): \").split()\n",
    "        if input_data[0] == 'q':\n",
    "            break\n",
    "        elif len(input_data) < 4:\n",
    "            continue\n",
    "        elif not input_data[1].isdigit():\n",
    "            continue\n",
    "        score = []\n",
    "        for i in range(3):\n",
    "            score.append(int(input_data[i+1]))\n",
    "        student[input_data[0]] = score\n",
    "    return student\n",
    "\n",
    "def total_data(student):\n",
    "    total = [[],[],[]]  # 각 과목의 점수 리스트\n",
    "    for key, values in student.items():\n",
    "        for i in range(3):\n",
    "            total[i].append(values[i])\n",
    "#         print(total)\n",
    "#     print(total)\n",
    "    return total\n",
    "\n",
    "def input_update_data(student):\n",
    "    for key, values in student.items():\n",
    "        values.append(sum(values)) \n",
    "        values.append(sum(values)/len(values))\n",
    "    return student"
   ]
  },
  {
   "cell_type": "code",
   "execution_count": 101,
   "id": "0e9bd6c2",
   "metadata": {},
   "outputs": [
    {
     "ename": "TypeError",
     "evalue": "'int' object is not subscriptable",
     "output_type": "error",
     "traceback": [
      "\u001b[1;31m---------------------------------------------------------------------------\u001b[0m",
      "\u001b[1;31mTypeError\u001b[0m                                 Traceback (most recent call last)",
      "\u001b[1;32m~\\AppData\\Local\\Temp/ipykernel_7252/649889688.py\u001b[0m in \u001b[0;36m<module>\u001b[1;34m\u001b[0m\n\u001b[1;32m----> 1\u001b[1;33m \u001b[0mtotal\u001b[0m \u001b[1;33m=\u001b[0m \u001b[0mtotal_data\u001b[0m\u001b[1;33m(\u001b[0m\u001b[0mstudent\u001b[0m\u001b[1;33m)\u001b[0m\u001b[1;33m\u001b[0m\u001b[1;33m\u001b[0m\u001b[0m\n\u001b[0m\u001b[0;32m      2\u001b[0m \u001b[0mtitle_name\u001b[0m\u001b[1;33m=\u001b[0m\u001b[1;33m[\u001b[0m\u001b[1;34m'국어'\u001b[0m\u001b[1;33m,\u001b[0m\u001b[1;34m'영어'\u001b[0m\u001b[1;33m,\u001b[0m\u001b[1;34m'수학'\u001b[0m\u001b[1;33m]\u001b[0m\u001b[1;33m\u001b[0m\u001b[1;33m\u001b[0m\u001b[0m\n\u001b[0;32m      3\u001b[0m \u001b[1;33m\u001b[0m\u001b[0m\n\u001b[0;32m      4\u001b[0m \u001b[1;32mfor\u001b[0m \u001b[0mi\u001b[0m \u001b[1;32min\u001b[0m \u001b[0mrange\u001b[0m\u001b[1;33m(\u001b[0m\u001b[0mlen\u001b[0m\u001b[1;33m(\u001b[0m\u001b[0mtotal\u001b[0m\u001b[1;33m)\u001b[0m\u001b[1;33m)\u001b[0m\u001b[1;33m:\u001b[0m\u001b[1;33m\u001b[0m\u001b[1;33m\u001b[0m\u001b[0m\n\u001b[0;32m      5\u001b[0m     print(\"{} 총합 : {}, 평균 : {:3.2f}\".format(title_name[i],\n",
      "\u001b[1;32m~\\AppData\\Local\\Temp/ipykernel_7252/3285405584.py\u001b[0m in \u001b[0;36mtotal_data\u001b[1;34m(student)\u001b[0m\n\u001b[0;32m     19\u001b[0m     \u001b[1;32mfor\u001b[0m \u001b[0mkey\u001b[0m\u001b[1;33m,\u001b[0m \u001b[0mvalues\u001b[0m \u001b[1;32min\u001b[0m \u001b[0mstudent\u001b[0m\u001b[1;33m.\u001b[0m\u001b[0mitems\u001b[0m\u001b[1;33m(\u001b[0m\u001b[1;33m)\u001b[0m\u001b[1;33m:\u001b[0m\u001b[1;33m\u001b[0m\u001b[1;33m\u001b[0m\u001b[0m\n\u001b[0;32m     20\u001b[0m         \u001b[1;32mfor\u001b[0m \u001b[0mi\u001b[0m \u001b[1;32min\u001b[0m \u001b[0mrange\u001b[0m\u001b[1;33m(\u001b[0m\u001b[1;36m3\u001b[0m\u001b[1;33m)\u001b[0m\u001b[1;33m:\u001b[0m\u001b[1;33m\u001b[0m\u001b[1;33m\u001b[0m\u001b[0m\n\u001b[1;32m---> 21\u001b[1;33m             \u001b[0mtotal\u001b[0m\u001b[1;33m[\u001b[0m\u001b[0mi\u001b[0m\u001b[1;33m]\u001b[0m\u001b[1;33m.\u001b[0m\u001b[0mappend\u001b[0m\u001b[1;33m(\u001b[0m\u001b[0mvalues\u001b[0m\u001b[1;33m[\u001b[0m\u001b[0mi\u001b[0m\u001b[1;33m]\u001b[0m\u001b[1;33m)\u001b[0m\u001b[1;33m\u001b[0m\u001b[1;33m\u001b[0m\u001b[0m\n\u001b[0m\u001b[0;32m     22\u001b[0m \u001b[1;31m#         print(total)\u001b[0m\u001b[1;33m\u001b[0m\u001b[1;33m\u001b[0m\u001b[0m\n\u001b[0;32m     23\u001b[0m \u001b[1;31m#     print(total)\u001b[0m\u001b[1;33m\u001b[0m\u001b[1;33m\u001b[0m\u001b[0m\n",
      "\u001b[1;31mTypeError\u001b[0m: 'int' object is not subscriptable"
     ]
    }
   ],
   "source": [
    "total = total_data(student)\n",
    "title_name=['국어','영어','수학']\n",
    "\n",
    "for i in range(len(total)):\n",
    "    print(\"{} 총합 : {}, 평균 : {:3.2f}\".format(title_name[i],\n",
    "                                            sum(total[i]),\n",
    "                                            sum(total[i]/len(total)))\n",
    "         )\n",
    "student=input_update_data(student)\n",
    "print(student)"
   ]
  },
  {
   "cell_type": "code",
   "execution_count": 91,
   "id": "55073156",
   "metadata": {},
   "outputs": [
    {
     "ename": "SyntaxError",
     "evalue": "invalid syntax (Temp/ipykernel_7252/4183003433.py, line 12)",
     "output_type": "error",
     "traceback": [
      "\u001b[1;36m  File \u001b[1;32m\"C:\\Users\\ygl\\AppData\\Local\\Temp/ipykernel_7252/4183003433.py\"\u001b[1;36m, line \u001b[1;32m12\u001b[0m\n\u001b[1;33m    for i in range(3)\u001b[0m\n\u001b[1;37m                     ^\u001b[0m\n\u001b[1;31mSyntaxError\u001b[0m\u001b[1;31m:\u001b[0m invalid syntax\n"
     ]
    }
   ],
   "source": [
    "student=input_data_1()\n",
    "key=search_data(student)\n",
    "if key:\n",
    "    print(\"{} : {}\".format(key,student[key]))\n",
    "else:\n",
    "    print(\"존재 x\")\n",
    "\n",
    "\n",
    "def total_data(student):\n",
    "    total=[[],[],[]]\n",
    "    for key, values in student.items():\n",
    "        for i in range(3)\n",
    "            total[i].append(values[i])\n",
    "        print(total)\n",
    "    print(total)\n",
    "    return"
   ]
  },
  {
   "cell_type": "code",
   "execution_count": null,
   "id": "a20218cf",
   "metadata": {},
   "outputs": [],
   "source": []
  }
 ],
 "metadata": {
  "kernelspec": {
   "display_name": "Python 3 (ipykernel)",
   "language": "python",
   "name": "python3"
  },
  "language_info": {
   "codemirror_mode": {
    "name": "ipython",
    "version": 3
   },
   "file_extension": ".py",
   "mimetype": "text/x-python",
   "name": "python",
   "nbconvert_exporter": "python",
   "pygments_lexer": "ipython3",
   "version": "3.9.7"
  }
 },
 "nbformat": 4,
 "nbformat_minor": 5
}
