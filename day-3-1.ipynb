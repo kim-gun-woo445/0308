{
 "cells": [
  {
   "cell_type": "code",
   "execution_count": 16,
   "id": "81f138be",
   "metadata": {},
   "outputs": [],
   "source": [
    "# 함수 => def 함수명(): 코드를 정의\n",
    "def print_3_times():\n",
    "    print(\"Hello\")\n",
    "    print(\"Hello\")\n",
    "    print(\"Hello\")    \n",
    "    \n",
    "# 함수의 매개변수\n",
    "def print_n_times(value, n):\n",
    "    for i in range(n):\n",
    "        print(value)\n",
    "\n",
    "# 함수의 가변 매개변수 : 가변 매개변수( *변수명)는 마지막에 나열함\n",
    "def print_v_times(n, *values): # (n, value,... )\n",
    "    for i in range(n):\n",
    "        for value in values:\n",
    "            print(value)\n",
    "        print()\n",
    "\n",
    "#  기본 매개변수 ( 매개변수의 값이 입력되지 않으면 기본 값을 처리)\n",
    "def print_b_times(value, n=2):\n",
    "    for i in range(n):\n",
    "        print(value)\n",
    "        \n",
    "# 키워드 매개변수 (기본과 가변이 공존할 때, 기본은 키워드 매개변수)\n",
    "# 키워드 매개변수는 가변 매개변수 뒤에\n",
    "def print_key_times(*values, n=2):\n",
    "    for i in range(n):\n",
    "        for value in values:\n",
    "            print(value)\n",
    "        print()\n",
    "\n",
    "#  함수의 매개변수 :  일반, 기본, 가변\n",
    "# 나열 순서는 가변, 기본 순서로 "
   ]
  },
  {
   "cell_type": "code",
   "execution_count": 18,
   "id": "7fca0684",
   "metadata": {},
   "outputs": [
    {
     "name": "stdout",
     "output_type": "stream",
     "text": [
      "test\n",
      "123\n",
      "\n",
      "test\n",
      "123\n",
      "\n",
      "test\n",
      "123\n",
      "\n"
     ]
    }
   ],
   "source": [
    "print_key_times('test', '123', n=3)"
   ]
  },
  {
   "cell_type": "code",
   "execution_count": 10,
   "id": "32368166",
   "metadata": {},
   "outputs": [
    {
     "name": "stdout",
     "output_type": "stream",
     "text": [
      "Hello\n",
      "Hello\n",
      "Hello\n",
      "매개변수\n",
      "test\n",
      "test\n",
      "가변 매개변수\n",
      "test\n",
      "hello\n",
      "list\n",
      "\n",
      "test\n",
      "hello\n",
      "list\n",
      "\n",
      "기본 매개변수\n",
      "Hello!!\n",
      "Hello!!\n"
     ]
    }
   ],
   "source": [
    "print_3_times()\n",
    "print(\"매개변수\")\n",
    "print_n_times('test',2)\n",
    "print(\"가변 매개변수\")\n",
    "print_v_times(2, 'test', 'hello','list')\n",
    "print(\"기본 매개변수\")\n",
    "print_b_times('Hello!!')  # n=2 가 실행됨"
   ]
  },
  {
   "cell_type": "code",
   "execution_count": 19,
   "id": "869b2b75",
   "metadata": {},
   "outputs": [],
   "source": [
    "# 기본 매개변수 활용\n",
    "def func_a(a, b=10, c=100):\n",
    "    print( a + b + c)"
   ]
  },
  {
   "cell_type": "code",
   "execution_count": 20,
   "id": "51a6b2e9",
   "metadata": {},
   "outputs": [
    {
     "name": "stdout",
     "output_type": "stream",
     "text": [
      "60\n",
      "220\n",
      "350\n",
      "240\n"
     ]
    }
   ],
   "source": [
    "func_a(10,20,30) # 10 + 20 + 30, .split(',')\n",
    "func_a(a=10, c=200) # 10 + 10 + 200\n",
    "func_a(c=200, a=100, b=50) # 100 + 50 + 200\n",
    "func_a(30, c=200) # 30 + 10 + 200"
   ]
  },
  {
   "cell_type": "code",
   "execution_count": 22,
   "id": "6c61b746",
   "metadata": {},
   "outputs": [
    {
     "name": "stdout",
     "output_type": "stream",
     "text": [
      "100\n"
     ]
    }
   ],
   "source": [
    "# return 이 있는 함수\n",
    "def return_func():\n",
    "    return 100\n",
    "    print(\"return_func exe\")  # 실행 안됨\n",
    "\n",
    "print(return_func())  # 100"
   ]
  },
  {
   "cell_type": "code",
   "execution_count": 23,
   "id": "e2a0359f",
   "metadata": {},
   "outputs": [],
   "source": [
    "def comp_func(num1, buho, num2):\n",
    "    if buho == '+':\n",
    "        result = num1 + num2\n",
    "    elif buho == '-':\n",
    "        result = num1 - num2\n",
    "    elif buho == '*':\n",
    "        result = num1 * num2\n",
    "    else:\n",
    "        result = num1 / num2\n",
    "    return result"
   ]
  },
  {
   "cell_type": "code",
   "execution_count": 25,
   "id": "f48b6802",
   "metadata": {},
   "outputs": [
    {
     "name": "stdout",
     "output_type": "stream",
     "text": [
      "계산식 입력 (예: 10 + 20), 종료:'q'10 + 20\n",
      "10 + 20 = 30\n",
      "계산식 입력 (예: 10 + 20), 종료:'q'q\n",
      "프로그램 종료\n"
     ]
    }
   ],
   "source": [
    "while True:\n",
    "    input_data = input(\"계산식 입력 (예: 10 + 20), 종료:'q'\").split()\n",
    "    if input_data[0] == 'q': # 'q'가 입력되면 종료\n",
    "        break\n",
    "    if len(input_data) < 3:  # 입력된 데이터가 3개 미만이면 계속 입력\n",
    "        continue\n",
    "    # 처음과 마지막 자료가 숫자가 아니면 다시 입력\n",
    "    if not (input_data[0].isdigit() and input_data[2].isdigit()):\n",
    "        continue\n",
    "    # 부호가 '+-*/'가 아니면 다시 입력\n",
    "    if not input_data[1] in '+-*/':\n",
    "        continue\n",
    "    result = comp_func(int(input_data[0]),input_data[1], \n",
    "                       int(input_data[2]))   \n",
    "    print(\"{} {} {} = {}\".format(input_data[0],input_data[1],\n",
    "                                 input_data[2],result))\n",
    "\n",
    "print(\"프로그램 종료\")"
   ]
  },
  {
   "cell_type": "code",
   "execution_count": 31,
   "id": "888ef8c2",
   "metadata": {},
   "outputs": [],
   "source": [
    "def input_data():\n",
    "    student = {}\n",
    "    while True:\n",
    "        input_data = input(\"이름 성적 입력 (종료는 'q'): \").split()\n",
    "        if input_data[0] == 'q':\n",
    "            break\n",
    "        elif len(input_data) < 4:\n",
    "            continue\n",
    "        elif not input_data[1].isdigit():\n",
    "            continue\n",
    "        student[input_data[0]] = int(input_data[i+1])\n",
    "    return student\n",
    "    \n",
    "def search_data(student):\n",
    "    search_name = input(\"검색할 이름 입력 : \")\n",
    "    for key in student:\n",
    "        if key == search_name:\n",
    "            return key\n",
    "    return"
   ]
  },
  {
   "cell_type": "code",
   "execution_count": 29,
   "id": "428c26d9",
   "metadata": {},
   "outputs": [
    {
     "name": "stdout",
     "output_type": "stream",
     "text": [
      "이름 성적 입력 (종료는 'q'): a 10\n",
      "이름 성적 입력 (종료는 'q'): b 20\n",
      "이름 성적 입력 (종료는 'q'): c 40\n",
      "이름 성적 입력 (종료는 'q'): d 30\n",
      "이름 성적 입력 (종료는 'q'): q\n",
      "검색할 이름 입력 : q\n",
      "검색하고자 하는 이름이 존재하지 않음\n"
     ]
    }
   ],
   "source": [
    "# 이름과 성적을 입력받아 딕셔너리에 저장하는 함수 작성\n",
    "# 검색하고자 하는 이름 입력 \n",
    "# 저장된 리스트의 성적을 출력 \n",
    "# 입력함수, 검색함수, 결과 출력\n",
    "student = input_data()\n",
    "key = search_data(student)\n",
    "if key:\n",
    "    print(\"{} : {}\".format(key,student[key]))\n",
    "else:\n",
    "    print(\"검색하고자 하는 이름이 존재하지 않음\")"
   ]
  },
  {
   "cell_type": "code",
   "execution_count": 1,
   "id": "1d7b7838",
   "metadata": {},
   "outputs": [],
   "source": [
    "def input_data_1():\n",
    "    student = {}\n",
    "    while True:\n",
    "        input_data = input(\"이름 성적 입력 (종료는 'q'): \").split()\n",
    "        if input_data[0] == 'q':\n",
    "            break\n",
    "        elif len(input_data) < 4:\n",
    "            continue\n",
    "        elif not input_data[1].isdigit():\n",
    "            continue\n",
    "        score = []\n",
    "        for i in range(3):\n",
    "            score.append(int(input_data[i+1]))\n",
    "        student[input_data[0]] = score\n",
    "    return student\n",
    "\n",
    "def total_data(student):\n",
    "    total = [[],[],[]]  # 각 과목의 점수 리스트\n",
    "    for key, values in student.items():\n",
    "        for i in range(3):\n",
    "            total[i].append(values[i])\n",
    "#         print(total)\n",
    "#     print(total)\n",
    "    return total\n",
    "\n",
    "def input_update_data(student):\n",
    "    for key, values in student.items():\n",
    "        cnt=len(values)\n",
    "        tot=sum(values)\n",
    "        values.append(tot)\n",
    "        values.append(tot/cnt)\n",
    "    return student"
   ]
  },
  {
   "cell_type": "code",
   "execution_count": 3,
   "id": "5da1a4dd",
   "metadata": {},
   "outputs": [
    {
     "name": "stdout",
     "output_type": "stream",
     "text": [
      "이름 성적 입력 (종료는 'q'): 김건우 80 70 60\n",
      "이름 성적 입력 (종료는 'q'): 이민영 70 60 50\n",
      "이름 성적 입력 (종료는 'q'): 이찬혁 67 67 67\n",
      "이름 성적 입력 (종료는 'q'): q\n",
      "{'김건우': [80, 70, 60], '이민영': [70, 60, 50], '이찬혁': [67, 67, 67]}\n"
     ]
    }
   ],
   "source": [
    "# 이름과 국어 영어 수학 점수를 입력받아 딕셔너리에 저장한 후 \n",
    "# 키는 이름으로 \n",
    "# 각 과목별 평균\n",
    "# 개인별 총점과 평균을 구해서 자료에 추가하세요\n",
    "# 마지막 결과 출력\n",
    "# student = {'홍길동': [90,80,80, 250,83.3]\n",
    "#            '김철수': [88,66,77]\n",
    "#           }\n",
    "\n",
    "student = input_data_1()\n",
    "print(student)"
   ]
  },
  {
   "cell_type": "code",
   "execution_count": 4,
   "id": "33979462",
   "metadata": {},
   "outputs": [
    {
     "name": "stdout",
     "output_type": "stream",
     "text": [
      "국어 총합 : 217, 평균 : 72.33 \n",
      "영어 총합 : 197, 평균 : 65.67 \n",
      "수학 총합 : 177, 평균 : 59.00 \n",
      "{'김건우': [80, 70, 60, 210, 70.0], '이민영': [70, 60, 50, 180, 60.0], '이찬혁': [67, 67, 67, 201, 67.0]}\n"
     ]
    }
   ],
   "source": [
    "total = total_data(student)\n",
    "title_name = ['국어', '영어', '수학']\n",
    "\n",
    "for i in range(len(total)):\n",
    "    print(\"{} 총합 : {}, 평균 : {:3.2f} \".format(title_name[i],\n",
    "                                            sum(total[i]),\n",
    "                                            sum(total[i])/len(total))\n",
    "                                            )\n",
    "student = input_update_data(student)\n",
    "print(student)"
   ]
  },
  {
   "cell_type": "code",
   "execution_count": null,
   "id": "428d250a",
   "metadata": {},
   "outputs": [],
   "source": []
  }
 ],
 "metadata": {
  "kernelspec": {
   "display_name": "Python 3 (ipykernel)",
   "language": "python",
   "name": "python3"
  },
  "language_info": {
   "codemirror_mode": {
    "name": "ipython",
    "version": 3
   },
   "file_extension": ".py",
   "mimetype": "text/x-python",
   "name": "python",
   "nbconvert_exporter": "python",
   "pygments_lexer": "ipython3",
   "version": "3.9.7"
  }
 },
 "nbformat": 4,
 "nbformat_minor": 5
}
